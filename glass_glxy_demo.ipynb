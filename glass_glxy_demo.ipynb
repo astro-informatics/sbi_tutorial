{
 "cells": [
  {
   "cell_type": "markdown",
   "id": "ad662637",
   "metadata": {},
   "source": [
    "# GLASS simulation data demo\n",
    "---"
   ]
  },
  {
   "cell_type": "markdown",
   "id": "52fef705",
   "metadata": {},
   "source": [
    "## 1. Prior Parameters: $\\bm{\\theta}\\sim P(\\bm{\\theta})$"
   ]
  },
  {
   "cell_type": "code",
   "execution_count": null,
   "id": "2c323272",
   "metadata": {
    "vscode": {
     "languageId": "plaintext"
    }
   },
   "outputs": [],
   "source": []
  },
  {
   "cell_type": "markdown",
   "id": "b1466de4",
   "metadata": {},
   "source": [
    "##  2. Simulated Data: $\\bm{x}|\\bm{\\theta}$"
   ]
  },
  {
   "cell_type": "code",
   "execution_count": null,
   "id": "85c56f8e",
   "metadata": {
    "vscode": {
     "languageId": "plaintext"
    }
   },
   "outputs": [],
   "source": []
  }
 ],
 "metadata": {
  "language_info": {
   "name": "python"
  }
 },
 "nbformat": 4,
 "nbformat_minor": 5
}
